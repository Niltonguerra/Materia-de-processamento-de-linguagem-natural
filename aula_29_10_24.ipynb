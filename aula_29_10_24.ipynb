{
  "nbformat": 4,
  "nbformat_minor": 0,
  "metadata": {
    "colab": {
      "provenance": [],
      "authorship_tag": "ABX9TyP8fM2vEuZkbgWPPHRtwJiW",
      "include_colab_link": true
    },
    "kernelspec": {
      "name": "python3",
      "display_name": "Python 3"
    },
    "language_info": {
      "name": "python"
    }
  },
  "cells": [
    {
      "cell_type": "markdown",
      "metadata": {
        "id": "view-in-github",
        "colab_type": "text"
      },
      "source": [
        "<a href=\"https://colab.research.google.com/github/Niltonguerra/Materia-de-processamento-de-linguagem-natural/blob/main/aula_29_10_24.ipynb\" target=\"_parent\"><img src=\"https://colab.research.google.com/assets/colab-badge.svg\" alt=\"Open In Colab\"/></a>"
      ]
    },
    {
      "cell_type": "markdown",
      "source": [
        "# Biblioteca NLTK"
      ],
      "metadata": {
        "id": "8jBz03uJfibj"
      }
    },
    {
      "cell_type": "markdown",
      "source": [
        "# Aula 03 - Ferramentas para PLN\n",
        "\n",
        "- expressões regulares - mecanismo para identificação de sequencias de caracter\n",
        "-- Serve para encontrar padrões em texto\n",
        "-- serve para remover caracter indesejaveis\n",
        "\n"
      ],
      "metadata": {
        "id": "9PPLIUbphrOH"
      }
    },
    {
      "cell_type": "code",
      "execution_count": 5,
      "metadata": {
        "id": "Sb7qco6efhbq"
      },
      "outputs": [],
      "source": [
        "import nltk\n",
        "from nltk.tokenize import sent_tokenize, word_tokenize\n"
      ]
    },
    {
      "cell_type": "code",
      "source": [
        "nltk.download('punkt')"
      ],
      "metadata": {
        "colab": {
          "base_uri": "https://localhost:8080/"
        },
        "id": "fV6_LgNohNst",
        "outputId": "28d374d6-76b3-4628-9a11-de1786598c91"
      },
      "execution_count": 6,
      "outputs": [
        {
          "output_type": "stream",
          "name": "stderr",
          "text": [
            "[nltk_data] Downloading package punkt to /root/nltk_data...\n",
            "[nltk_data]   Unzipping tokenizers/punkt.zip.\n"
          ]
        },
        {
          "output_type": "execute_result",
          "data": {
            "text/plain": [
              "True"
            ]
          },
          "metadata": {},
          "execution_count": 6
        }
      ]
    },
    {
      "cell_type": "code",
      "source": [
        "texto = \"O gato preto pulou sobre o muro. eLe estava com fome e procurava algo para comer.\"\n",
        "\n",
        "frases = sent_tokenize(texto)\n",
        "print(frases)\n",
        "\n",
        "\n"
      ],
      "metadata": {
        "colab": {
          "base_uri": "https://localhost:8080/"
        },
        "id": "-Jyvgpjxi2qZ",
        "outputId": "ef743c1a-30d9-4cda-80c4-c99967394daa"
      },
      "execution_count": 11,
      "outputs": [
        {
          "output_type": "stream",
          "name": "stdout",
          "text": [
            "['O gato preto pulou sobre o muro.', 'eLe estava com fome e procurava algo para comer.']\n"
          ]
        }
      ]
    },
    {
      "cell_type": "code",
      "source": [
        "print('\\nTokenização de palavras:')\n",
        "for frase in frases:\n",
        "    palavras = word_tokenize(frase)\n",
        "    print(palavras)"
      ],
      "metadata": {
        "colab": {
          "base_uri": "https://localhost:8080/"
        },
        "id": "ufpe98oujuq8",
        "outputId": "891d0951-e88f-4ea9-9cc2-64af87715648"
      },
      "execution_count": 12,
      "outputs": [
        {
          "output_type": "stream",
          "name": "stdout",
          "text": [
            "\n",
            "Tokenização de palavras:\n",
            "['O', 'gato', 'preto', 'pulou', 'sobre', 'o', 'muro', '.']\n",
            "['eLe', 'estava', 'com', 'fome', 'e', 'procurava', 'algo', 'para', 'comer', '.']\n"
          ]
        }
      ]
    }
  ]
}