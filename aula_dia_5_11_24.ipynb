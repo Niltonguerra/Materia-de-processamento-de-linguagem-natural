{
  "nbformat": 4,
  "nbformat_minor": 0,
  "metadata": {
    "colab": {
      "provenance": [],
      "authorship_tag": "ABX9TyN9TL8wLKeMgxDS2GHFl1ng",
      "include_colab_link": true
    },
    "kernelspec": {
      "name": "python3",
      "display_name": "Python 3"
    },
    "language_info": {
      "name": "python"
    }
  },
  "cells": [
    {
      "cell_type": "markdown",
      "metadata": {
        "id": "view-in-github",
        "colab_type": "text"
      },
      "source": [
        "<a href=\"https://colab.research.google.com/github/Niltonguerra/Materia-de-processamento-de-linguagem-natural/blob/main/aula_dia_5_11_24.ipynb\" target=\"_parent\"><img src=\"https://colab.research.google.com/assets/colab-badge.svg\" alt=\"Open In Colab\"/></a>"
      ]
    },
    {
      "cell_type": "code",
      "execution_count": 3,
      "metadata": {
        "colab": {
          "base_uri": "https://localhost:8080/"
        },
        "id": "88y_bLzxZptc",
        "outputId": "fa84bbb7-1d9a-468c-fcb3-bddb0a676517"
      },
      "outputs": [
        {
          "output_type": "stream",
          "name": "stdout",
          "text": [
            "matriz Bow:\n",
            "[[0 1 0 1 0]\n",
            " [1 1 1 1 0]\n",
            " [0 0 0 1 1]]\n",
            "vocabulario: {'gato': 3, 'cachorro': 1, 'brinca': 0, 'com': 2, 'rato': 4}\n"
          ]
        }
      ],
      "source": [
        "#importação das ferramentas a serem utilizadas\n",
        "\n",
        "#CountVectorizer\n",
        "from sklearn.feature_extraction.text import CountVectorizer\n",
        "\n",
        "\n",
        "documentos = [\n",
        "    \" gato e cachorro\",\n",
        "    \"gato brinca com cachorro\",\n",
        "    \"gato e rato\"\n",
        "]\n",
        "\n",
        "vectorizer = CountVectorizer()\n",
        "\n",
        "\n",
        "# o 'fit_transform' Criar uma lista com cada palavra que existe no texto e transforma em vetor\n",
        "X = vectorizer.fit_transform(documentos)\n",
        "\n",
        "\n",
        "\n",
        "print(\"matriz Bow:\")\n",
        "print(X.toarray())\n",
        "\n",
        "print(f\"vocabulario: {vectorizer.vocabulary_}\")"
      ]
    },
    {
      "cell_type": "code",
      "source": [
        "#importação das bibliotecas\n",
        "from sklearn.feature_extraction.text import CountVectorizer #BoW\n",
        "from sklearn.feature_extraction.text import TfidfVectorizer #TF-IDF\n",
        "# term Frequency - Inverve Documento Frequency\n",
        "\n",
        "documentos = [\n",
        "    \"O cachorro gosta de passear no parque\",\n",
        "    \"O gato dorme no sofá o dia todo\",\n",
        "    \"Cachorros e gatos podem ser bons amigos\"\n",
        "]\n",
        "\n",
        "vectorizer_bow = CountVectorizer()\n",
        "X_bow = vectorizer_bow.fit_transform(documentos)\n",
        "\n",
        "print(f\"Vocabulário BoW: {vectorizer_bow.vocabulary_}\")\n",
        "print(\"matriz Bow:\")\n",
        "print(X_bow.toarray())\n",
        "\n",
        "vectorizer_tfidf = TfidfVectorizer()\n",
        "X_tfidf = vectorizer_tfidf.fit_transform(documentos)\n",
        "\n",
        "print(f\"\\nVocabulário IF-IDF: {vectorizer_tfidf.vocabulary_}\")\n",
        "print(\"Matriz IF - IDF\")\n",
        "print(X_tfidf.toarray())"
      ],
      "metadata": {
        "colab": {
          "base_uri": "https://localhost:8080/"
        },
        "id": "_49tHtfMh5zD",
        "outputId": "40ff363f-f6a0-4d7f-889f-ab785573b5ac"
      },
      "execution_count": 6,
      "outputs": [
        {
          "output_type": "stream",
          "name": "stdout",
          "text": [
            "Vocabulário BoW: {'cachorro': 2, 'gosta': 9, 'de': 4, 'passear': 12, 'no': 10, 'parque': 11, 'gato': 7, 'dorme': 6, 'sofá': 15, 'dia': 5, 'todo': 16, 'cachorros': 3, 'gatos': 8, 'podem': 13, 'ser': 14, 'bons': 1, 'amigos': 0}\n",
            "matriz Bow:\n",
            "[[0 0 1 0 1 0 0 0 0 1 1 1 1 0 0 0 0]\n",
            " [0 0 0 0 0 1 1 1 0 0 1 0 0 0 0 1 1]\n",
            " [1 1 0 1 0 0 0 0 1 0 0 0 0 1 1 0 0]]\n",
            "\n",
            "Vocabulário IF-IDF: {'cachorro': 2, 'gosta': 9, 'de': 4, 'passear': 12, 'no': 10, 'parque': 11, 'gato': 7, 'dorme': 6, 'sofá': 15, 'dia': 5, 'todo': 16, 'cachorros': 3, 'gatos': 8, 'podem': 13, 'ser': 14, 'bons': 1, 'amigos': 0}\n",
            "Matriz IF - IDF\n",
            "[[0.         0.         0.42339448 0.         0.42339448 0.\n",
            "  0.         0.         0.         0.42339448 0.32200242 0.42339448\n",
            "  0.42339448 0.         0.         0.         0.        ]\n",
            " [0.         0.         0.         0.         0.         0.42339448\n",
            "  0.42339448 0.42339448 0.         0.         0.32200242 0.\n",
            "  0.         0.         0.         0.42339448 0.42339448]\n",
            " [0.40824829 0.40824829 0.         0.40824829 0.         0.\n",
            "  0.         0.         0.40824829 0.         0.         0.\n",
            "  0.         0.40824829 0.40824829 0.         0.        ]]\n"
          ]
        }
      ]
    },
    {
      "cell_type": "code",
      "source": [
        "import nltk\n",
        "import re\n",
        "from nltk.corpus import stopwords\n",
        "from nltk.tokenize import word_tokenize\n",
        "from nltk.stem import WordNetLemmatizer\n",
        "from sklearn.feature_extraction.text import CountVectorizer\n",
        "\n",
        "nltk.download('punkt')\n",
        "nltk.download('stopwords')\n",
        "nltk.download('wordnet')\n",
        "nltk.download('omw-1.4')\n",
        "\n",
        "documentos = [\n",
        "    'Os cachorros são animais muito amigáveis e leais!',\n",
        "    'eu gosto de gatos porque eles ~sao independentes e fofos.',\n",
        "    'Cachorros e gatos podem ser ótimos animais de estimaçãos.'\n",
        "]\n",
        "\n",
        "lemmatizer = WordNetLemmatizer()\n",
        "stop_words = set(stopwords.words('portuguese'))\n",
        "\n",
        "def preprocessar_texto(texto):\n",
        "    texto = re.sub(r'[^a-zA-Zá-ÿ\\s]','',texto)\n",
        "    tokens_tudo = word_tokenize(texto.lower())\n",
        "    tokens = [palavra for palavra in tokens_tudo if palavra not in stop_words]\n",
        "    tokens_lema = [lemmatizer.lemmatize(palavra) for palavra in tokens]\n",
        "    return ' '.join(tokens_lema)\n",
        "\n",
        "documentos_processados = [preprocessar_texto(doc) for doc in documentos]\n",
        "\n",
        "print('documentos pré- processados:')\n",
        "for i, doc in enumerate(documentos_processados):\n",
        "    print(f'documento {i + 1}: {doc}' )\n",
        "\n",
        "vectorizer = CountVectorizer()\n",
        "X_box = vectorizer.fit_transform(documentos_processados)\n",
        "\n",
        "print(\"\\nVocabulário Bow:\", vectorizer.vocabulary_)\n",
        "print(\"Matriz Bow:\")\n",
        "print(X_bow.toarray())"
      ],
      "metadata": {
        "colab": {
          "base_uri": "https://localhost:8080/"
        },
        "id": "yOFGjL0aoYQN",
        "outputId": "35ec220a-fa9f-41ee-8be3-31c45be4317e"
      },
      "execution_count": 9,
      "outputs": [
        {
          "output_type": "stream",
          "name": "stdout",
          "text": [
            "documentos pré- processados:\n",
            "documento 1: cachorros animais amigáveis leais\n",
            "documento 2: gosto gatos porque sao independentes fofos\n",
            "documento 3: cachorros gatos podem ótimos animais estimaçãos\n",
            "\n",
            "Vocabulário Bow: {'cachorros': 2, 'animais': 1, 'amigáveis': 0, 'leais': 8, 'gosto': 6, 'gatos': 5, 'porque': 10, 'sao': 11, 'independentes': 7, 'fofos': 4, 'podem': 9, 'ótimos': 12, 'estimaçãos': 3}\n",
            "Matriz Bow:\n",
            "[[0 0 1 0 1 0 0 0 0 1 1 1 1 0 0 0 0]\n",
            " [0 0 0 0 0 1 1 1 0 0 1 0 0 0 0 1 1]\n",
            " [1 1 0 1 0 0 0 0 1 0 0 0 0 1 1 0 0]]\n"
          ]
        },
        {
          "output_type": "stream",
          "name": "stderr",
          "text": [
            "[nltk_data] Downloading package punkt to /root/nltk_data...\n",
            "[nltk_data]   Package punkt is already up-to-date!\n",
            "[nltk_data] Downloading package stopwords to /root/nltk_data...\n",
            "[nltk_data]   Package stopwords is already up-to-date!\n",
            "[nltk_data] Downloading package wordnet to /root/nltk_data...\n",
            "[nltk_data]   Package wordnet is already up-to-date!\n",
            "[nltk_data] Downloading package omw-1.4 to /root/nltk_data...\n",
            "[nltk_data]   Package omw-1.4 is already up-to-date!\n"
          ]
        }
      ]
    },
    {
      "cell_type": "code",
      "source": [],
      "metadata": {
        "id": "CaZFc0BGozJU"
      },
      "execution_count": null,
      "outputs": []
    }
  ]
}